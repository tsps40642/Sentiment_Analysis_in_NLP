{
  "nbformat": 4,
  "nbformat_minor": 0,
  "metadata": {
    "colab": {
      "provenance": []
    },
    "kernelspec": {
      "name": "python3",
      "display_name": "Python 3"
    },
    "language_info": {
      "name": "python"
    }
  },
  "cells": [
    {
      "cell_type": "markdown",
      "source": [
        "# Prepare for the text mining: install some moduels"
      ],
      "metadata": {
        "id": "IrfGy1aJW3na"
      }
    },
    {
      "cell_type": "markdown",
      "source": [
        "In this assignment, I use the web method to process the text."
      ],
      "metadata": {
        "id": "9MoLBzb3xYg3"
      }
    },
    {
      "cell_type": "markdown",
      "source": [
        "Prepare packages\n",
        "Import nltk (natural language toolkit)\n",
        "\n",
        "Import matplotlib (to produce the graphical plots )\n",
        "\n",
        "Import numpy (to produce the graphical plots )"
      ],
      "metadata": {
        "id": "YKfoygT0Y8Gp"
      }
    },
    {
      "cell_type": "code",
      "source": [
        "!pip3 install nltk\n",
        "!pip3 install matplotlib\n",
        "!pip3 install numpy\n",
        "!pip3 install beautifulsoup4\n",
        "!pip3 install spacy\n",
        "!pip3 install urllib\n",
        "!pip3 install requests\n",
        "\n",
        "import nltk\n",
        "import matplotlib\n",
        "import numpy\n",
        "import bs4\n",
        "from bs4 import BeautifulSoup\n",
        "import spacy\n",
        "from urllib.request import urlopen\n",
        "import requests\n",
        "import re\n",
        "import urllib.request as req"
      ],
      "metadata": {
        "id": "Kb3DS_3OYkrG"
      },
      "execution_count": null,
      "outputs": []
    },
    {
      "cell_type": "markdown",
      "source": [
        "# Daily Mail"
      ],
      "metadata": {
        "id": "9hoOF_t81vUW"
      }
    },
    {
      "cell_type": "markdown",
      "source": [
        "####Crawl down comments from Daily Mail comments"
      ],
      "metadata": {
        "id": "eDcrLjZ6iwNQ"
      }
    },
    {
      "cell_type": "code",
      "source": [
        "#urls of the comments\n",
        "daily_mail_comments=[\n",
        " 'https://www.dailymail.co.uk/debate/article-10618317/DAILY-MAIL-COMMENT-Threat-free-Press.html',\n",
        " 'https://www.dailymail.co.uk/news/article-10686013/DAILY-MAIL-COMMENT-Stiffer-sanctions-help-stop-slaughter.html',\n",
        " 'https://www.dailymail.co.uk/news/article-10701511/DAILY-MAIL-COMMENT-Stop-ticking-boxes-Ukrainian-refugees-sanctuary.html',\n",
        " 'https://www.dailymail.co.uk/debate/article-10730073/DAILY-MAIL-COMMENT-Bone-idle-bureaucrats-sofas.html',\n",
        " 'https://www.dailymail.co.uk/news/article-10741735/DAILY-MAIL-COMMENT-Mail-readers-weapon-against-Putins-cruelty.html',\n",
        " 'https://www.dailymail.co.uk/news/article-10541335/DAILY-MAIL-COMMENT-Nato-not-fold-face-Putins-tyranny.html',\n",
        " 'https://www.dailymail.co.uk/news/article-10545429/DAILY-MAIL-COMMENT-Woke-dagger-boosts-UKs-enemies.html',\n",
        " 'https://www.dailymail.co.uk/news/article-10549783/DAILY-MAIL-COMMENT-people-Ukraine-victims-monstrous-act-war.html',\n",
        " 'https://www.dailymail.co.uk/news/article-10553815/DAILY-MAIL-COMMENT-EU-betrayed-Ukraine-rubbing-red-line.html',\n",
        " 'https://www.dailymail.co.uk/news/article-10558737/DAILY-MAIL-COMMENT-help-victims-tyranny.html',\n",
        " 'https://www.dailymail.co.uk/news/article-10562973/DAILY-MAIL-COMMENT-West-tightens-noose-Russias-economy.html',\n",
        " 'https://www.dailymail.co.uk/news/article-10567347/DAILY-MAIL-COMMENT-Cool-heads-needed-avert-global-war.html',\n",
        " 'https://www.dailymail.co.uk/news/article-10576027/DAILY-MAIL-COMMENT-Sanctions-shambles-betraying-Ukraine.html',\n",
        " 'https://www.dailymail.co.uk/news/article-10579837/DAILY-MAIL-COMMENT-generosity-light-darkness.html',\n",
        " 'https://www.dailymail.co.uk/news/article-10584577/DAILY-MAIL-COMMENT-Russias-dystopia-truth-crime.html',\n",
        " 'https://www.dailymail.co.uk/news/article-10604811/DAILY-MAIL-COMMENT-kindness-lights-darkness-war.html',\n",
        " 'https://www.dailymail.co.uk/news/article-10609565/DAILY-MAIL-COMMENT-British-generosity-lesson-compassion.html',\n",
        " 'https://www.dailymail.co.uk/news/article-10617441/DAILY-MAIL-COMMENT-Warm-embrace-victims-Putins-war.html'\n",
        "]"
      ],
      "metadata": {
        "id": "cICTQak-Saaw"
      },
      "execution_count": null,
      "outputs": []
    },
    {
      "cell_type": "code",
      "source": [
        "#prepare the lists to use later\n",
        "daily_time=[]\n",
        "daily_topic=[]\n",
        "daily_article=[]\n",
        "daily_names=[]\n",
        "daily_source=[]\n",
        "\n",
        "for i in range(0, len(daily_mail_comments)):\n",
        "#for i in range(0, 2):\n",
        "  daily_mail_article_web=daily_mail_comments[i]\n",
        "  request=req.Request(daily_mail_article_web, headers={\"User-Agent\":\"Mozilla/5.0 (Windows NT 10.0; Win64; x64) AppleWebKit/537.36 (KHTML, like Gecko) Chrome/88.0.4324.190 Safari/537.36\"})\n",
        "  with req.urlopen(request) as response:\n",
        "    data=response.read().decode(\"utf-8\")\n",
        "  root=bs4.BeautifulSoup(data, \"html.parser\")\n",
        "\n",
        "  #time\n",
        "  daily_web_time=root.find(\"time\").string\n",
        "  daliy_date=re.findall(r'[0-9]*\\s[A-Z][a-z].*\\s2022', daily_web_time)\n",
        "  daliy_date=str(daliy_date).strip(\"[\")\n",
        "  daliy_date=str(daliy_date).strip(\"]\")\n",
        "  daliy_date=str(daliy_date).strip(\"'\")\n",
        "  daily_time.append(daliy_date)\n",
        "\n",
        "  #topic\n",
        "  daily_web_topic=root.find(\"title\").string\n",
        "  daily_true_topic=re.findall(r'[A-Z][a-z].*[|]', daily_web_topic)\n",
        "  out=\" \".join(str(daily_true_topic).split(\"\\\\xa0\"))\n",
        "  out=\" \".join(out.split(\"|\"))\n",
        "  out=out.strip(\"[\")\n",
        "  out=out.strip(\"]\")\n",
        "  out=out.strip(\"'\")\n",
        "  out=out.strip(\"\\\"\")\n",
        "  out=out.strip(\" \")\n",
        "  daily_topic.append(out)\n",
        "\n",
        "  #article\n",
        "  daily_article_tmp=[]\n",
        "  daily_article_tmp.append([i.text for i in root.select('p.mol-para-with-font')])\n",
        "  daily_article_tmp=str(daily_article_tmp).strip(\"[\")\n",
        "  daily_article_tmp=daily_article_tmp.strip(\"]\")\n",
        "  daily_article_tmp=\" \".join(daily_article_tmp.split(\"', '\"))\n",
        "  daily_article_tmp=daily_article_tmp.strip(\"'\")\n",
        "  daily_article.append(daily_article_tmp)\n",
        "\n",
        "  #names\n",
        "  nlp=spacy.load(\"en_core_web_sm\")\n",
        "  doc=nlp(str(daily_article[i]))\n",
        "  daily_names_tmp=[]\n",
        "  for x in doc.ents:\n",
        "    if x.label_==\"PERSON\":\n",
        "      daily_names_tmp.append(x.text)\n",
        "    else:\n",
        "      continue\n",
        "  daily_names_tmp=str(set(daily_names_tmp)).strip(\"{\")\n",
        "  daily_names_tmp=daily_names_tmp.strip(\"}\")\n",
        "  daily_names_tmp=daily_names_tmp.strip(\"'\")\n",
        "  daily_names_tmp=\"\".join(daily_names_tmp.split(\"'\"))\n",
        "  daily_names.append(daily_names_tmp)\n",
        "\n",
        "  #source\n",
        "  daily_source.append(\"daily_mail\")"
      ],
      "metadata": {
        "id": "EpSbKsjEh_cv"
      },
      "execution_count": null,
      "outputs": []
    },
    {
      "cell_type": "code",
      "source": [
        "#print to check\n",
        "print(daily_time)\n",
        "print(daily_topic)\n",
        "print(daily_article[0])\n",
        "print(daily_names[1])\n",
        "print(daily_source)"
      ],
      "metadata": {
        "id": "Ydpci0ODCkAD"
      },
      "execution_count": null,
      "outputs": []
    },
    {
      "cell_type": "markdown",
      "source": [
        "# Reuters"
      ],
      "metadata": {
        "id": "VtoKvuYFKJrz"
      }
    },
    {
      "cell_type": "markdown",
      "source": [
        "####Crawl down comments from Reuters comments"
      ],
      "metadata": {
        "id": "_09-lo3rclbq"
      }
    },
    {
      "cell_type": "code",
      "source": [
        "reuters_comments=[\n",
        " 'https://www.reuters.com/markets/asia/russian-investors-display-war-chat-scepticism-2022-02-14/',\n",
        " 'https://www.reuters.com/breakingviews/risk-war-implies-lasting-russia-discount-2022-02-22/',\n",
        " 'https://www.reuters.com/markets/asia/hot-war-may-get-hotter-through-cyber-battles-2022-02-22/',\n",
        " 'https://www.reuters.com/breakingviews/putin-prods-planet-into-riskier-post-pandemic-funk-2022-02-24/',\n",
        " 'https://www.reuters.com/breakingviews/china-has-already-won-lost-ukraine-2022-02-24/',\n",
        " 'https://www.reuters.com/breakingviews/ukraine-war-flashes-neon-warning-lights-chips-2022-02-24/',\n",
        " 'https://www.reuters.com/markets/asia/viewsroom-russia-ukraine-credit-suisse-woes-2022-02-24/',\n",
        " 'https://www.reuters.com/markets/asia/russia-gets-huawei-treatment-steroids-2022-02-24/',\n",
        " 'https://www.reuters.com/breakingviews/navalnys-supporters-call-civil-disobedience-against-ukraine-war-2022-02-28/',\n",
        " 'https://www.reuters.com/markets/asia/how-europe-can-kick-its-russian-gas-habit-2022-03-01/',\n",
        " 'https://www.reuters.com/breakingviews/indias-russian-romance-will-be-hard-stifle-2022-03-02/',\n",
        " 'https://www.reuters.com/breakingviews/chinas-belt-road-strafed-by-vladimir-putin-2022-03-03/',\n",
        " 'https://www.reuters.com/breakingviews/chinas-parliament-can-justify-new-rubber-stamp-2022-03-04/',\n",
        " 'https://www.reuters.com/breakingviews/euros-ukraine-battering-intensifies-ecb-migraine-2022-03-04/',\n",
        " 'https://www.reuters.com/markets/europe/europe-war-six-charts-know-financial-markets-2022-03-05/',\n",
        " 'https://www.reuters.com/markets/asia/russias-reverse-globalisation-will-test-putin-2022-03-07/',\n",
        " 'https://www.reuters.com/breakingviews/stagflation-like-worst-pandemic-is-avoidable-2022-03-07/',\n",
        " 'https://www.reuters.com/breakingviews/ukraine-speeds-global-rush-self-sufficiency-2022-03-09/',\n",
        " 'https://www.reuters.com/markets/asia/its-time-macron-pull-total-out-russia-2022-03-09/',\n",
        " 'https://www.reuters.com/breakingviews/fortescues-new-green-cfo-faces-tough-transition-2022-03-10/',\n",
        " 'https://www.reuters.com/markets/asia/mcdonalds-closure-marks-ending-russian-era-2022-03-10/',\n",
        " 'https://www.reuters.com/markets/asia/russian-shoppers-weaken-case-companies-stay-2022-03-11/',\n",
        " 'https://www.reuters.com/breakingviews/dixon-war-boosts-need-green-marshall-plan-2022-03-11/',\n",
        " 'https://www.reuters.com/breakingviews/renaults-russian-options-range-bad-ugly-2022-03-14/',\n",
        " 'https://www.reuters.com/breakingviews/war-crowdfunding-is-weapon-that-cuts-two-ways-2022-03-14/',\n",
        " 'https://www.reuters.com/breakingviews/chinas-politics-have-wrecked-its-markets-2022-03-16/',\n",
        " 'https://www.reuters.com/breakingviews/chinas-finance-technocrats-grab-back-mic-2022-03-16/',\n",
        " 'https://www.reuters.com/breakingviews/russia-punches-economic-hole-above-its-weight-2022-03-16/',\n",
        " 'https://www.reuters.com/breakingviews/china-inc-walks-tightest-ropes-over-ukraine-2022-03-17/',\n",
        " 'https://www.reuters.com/breakingviews/nickel-gets-nixed-french-firms-linger-russia-podcast-2022-03-17/',\n",
        " 'https://www.reuters.com/breakingviews/russia-kicks-default-drama-into-future-2022-03-17/',\n",
        " 'https://www.reuters.com/breakingviews/ma-bankers-like-cockroaches-survive-everything-2022-03-17/',\n",
        " 'https://www.reuters.com/breakingviews/tokyo-gets-helpful-shove-unhelpful-war-2022-03-21/',\n",
        " 'https://www.reuters.com/breakingviews/ukraine-refugee-crisis-watch-canada-2022-03-22/',\n",
        " 'https://www.reuters.com/breakingviews/russian-gas-gets-harder-buy-easier-snub-2022-03-25/',\n",
        " 'https://www.reuters.com/breakingviews/foreign-cash-fleeing-china-adds-insult-injury-2022-03-28/',\n",
        " 'https://www.reuters.com/breakingviews/china-us-ties-will-degrade-regardless-russia-2022-03-30/',\n",
        " 'https://www.reuters.com/breakingviews/hydrogens-civil-war-reveals-its-winner-2022-03-31/',\n",
        " 'https://www.reuters.com/breakingviews/hms-new-targets-already-look-too-ambitious-2022-03-31/',\n",
        " 'https://www.reuters.com/breakingviews/time-europe-break-energy-sanctions-taboo-2022-04-04/',\n",
        " 'https://www.reuters.com/breakingviews/ukraine-should-be-rebuilt-without-russian-money-2022-04-06/',\n",
        " 'https://www.reuters.com/breakingviews/chancellor-praise-slack-2022-04-07/',\n",
        " 'https://www.reuters.com/breakingviews/roubles-strength-is-sign-russias-weakness-2022-04-06/',\n",
        " 'https://www.reuters.com/breakingviews/putins-finances-can-survive-european-energy-ban-2022-04-08/',\n",
        " 'https://www.reuters.com/breakingviews/socgen-avoids-worst-costly-russian-exit-2022-04-11/',\n",
        " 'https://www.reuters.com/breakingviews/imfs-search-ukraine-help-should-start-home-2022-04-19/',\n",
        " 'https://www.reuters.com/breakingviews/ge-braves-cost-inflation-confidence-deflation-2022-04-26/',\n",
        " 'https://www.reuters.com/breakingviews/putins-gas-shock-is-acid-test-eu-unity-2022-04-27/',\n",
        " 'https://www.reuters.com/breakingviews/nintendo-plays-safer-shorter-game-than-sony-2022-05-10/',\n",
        " 'https://www.reuters.com/breakingviews/india-heatwave-throws-food-security-loop-2022-05-12/',\n",
        " 'https://www.reuters.com/breakingviews/emerging-markets-offer-dubious-investment-appeal-2022-05-12/',\n",
        " 'https://www.reuters.com/breakingviews/using-russian-assets-ukraine-would-be-mistake-2022-05-17/',\n",
        " 'https://www.reuters.com/breakingviews/ukraines-spare-energy-can-help-itself-europe-2022-05-20/',\n",
        " 'https://www.reuters.com/breakingviews/global-stability-partly-hangs-saudi-reinvention-2022-05-25/',\n",
        " 'https://www.reuters.com/breakingviews/how-sanctions-against-russia-could-backfire-2022-05-26/',\n",
        " 'https://www.reuters.com/breakingviews/fingers-crossed-davos-man-gets-it-wrong-again-2022-05-27/'\n",
        "]"
      ],
      "metadata": {
        "id": "fjfZvpxYukcx"
      },
      "execution_count": null,
      "outputs": []
    },
    {
      "cell_type": "code",
      "source": [
        "#prepare the lists to use later\n",
        "reuters_time=[]\n",
        "reuters_topic=[]\n",
        "reuters_article=[]\n",
        "reuters_names=[]\n",
        "reuters_source=[]\n",
        "\n",
        "for i in range(0, len(reuters_comments)):\n",
        "#for i in range(0, 2):\n",
        "  reuters_article_web=reuters_comments[i]\n",
        "  request=req.Request(reuters_article_web, headers={\"User-Agent\":\"Mozilla/5.0 (Windows NT 10.0; Win64; x64) AppleWebKit/537.36 (KHTML, like Gecko) Chrome/88.0.4324.190 Safari/537.36\"})\n",
        "  with req.urlopen(request) as response:\n",
        "    data=response.read().decode(\"utf-8\")\n",
        "  root=bs4.BeautifulSoup(data, \"html.parser\")\n",
        "\n",
        "  #time\n",
        "  reuters_web_time=root.find(\"span\", class_=\"date-line__date__23Ge-\")\n",
        "  reuters_time.append(reuters_web_time.string)\n",
        "\n",
        "  #topic\n",
        "  reuters_web_topic=root.find(\"title\").string\n",
        "  out=str(re.findall(r'.*[|]', reuters_web_topic))\n",
        "  out=\" \".join(out.split(\"|\"))\n",
        "  out=out.strip(\"[\")\n",
        "  out=out.strip(\"]\")\n",
        "  out=out.strip(\"'\")\n",
        "  out=out.strip(\" \")\n",
        "  reuters_topic.append(out)\n",
        "\n",
        "  #article\n",
        "  reuters_article_tmp=[]\n",
        "  reuters_article_tmp.append([i.text for i in root.select('div.article-body__content__17Yit')])\n",
        "  reuters_article_tmp=str(reuters_article_tmp).strip(\"[\")\n",
        "  reuters_article_tmp=reuters_article_tmp.strip(\"]\")\n",
        "  reuters_article_tmp=reuters_article_tmp.strip(\"'\")\n",
        "  reuters_article_tmp=re.findall(r'-.*[.]F', reuters_article_tmp)\n",
        "  reuters_article_tmp=str(reuters_article_tmp).strip(\"[\")\n",
        "  reuters_article_tmp=reuters_article_tmp.strip(\"]\")\n",
        "  reuters_article_tmp=reuters_article_tmp.strip(\"'\")\n",
        "  reuters_article_tmp=reuters_article_tmp.strip(\"- \")\n",
        "  reuters_article_tmp=reuters_article_tmp.strip(\".F\")\n",
        "  reuters_article.append(reuters_article_tmp)\n",
        "\n",
        "  #names\n",
        "  nlp=spacy.load(\"en_core_web_sm\")\n",
        "  doc=nlp(str(reuters_article[i]))\n",
        "  reuters_names_tmp=[]\n",
        "  for x in doc.ents:\n",
        "    if x.label_==\"PERSON\":\n",
        "      reuters_names_tmp.append(x.text)\n",
        "    else:\n",
        "      continue\n",
        "  reuters_names_tmp=str(set(reuters_names_tmp)).strip(\"{\")\n",
        "  reuters_names_tmp=reuters_names_tmp.strip(\"}\")\n",
        "  reuters_names_tmp=reuters_names_tmp.strip(\"'\")\n",
        "  reuters_names_tmp=\"\".join(reuters_names_tmp.split(\"'\"))\n",
        "  reuters_names.append(reuters_names_tmp)\n",
        "\n",
        "  #source\n",
        "  reuters_source.append(\"reuters\")"
      ],
      "metadata": {
        "id": "-JApwpOuotSH"
      },
      "execution_count": null,
      "outputs": []
    },
    {
      "cell_type": "code",
      "source": [
        "print(reuters_time)\n",
        "print(reuters_topic)\n",
        "print(reuters_article)\n",
        "print(reuters_names)\n",
        "print(reuters_source)"
      ],
      "metadata": {
        "id": "eoPGHHCGcu_e"
      },
      "execution_count": null,
      "outputs": []
    },
    {
      "cell_type": "markdown",
      "source": [
        "# The Sun"
      ],
      "metadata": {
        "id": "9Kq0CZeSJx1q"
      }
    },
    {
      "cell_type": "markdown",
      "source": [
        "####Crawl down comments from The Sun comments"
      ],
      "metadata": {
        "id": "eu-pqx6mjTIK"
      }
    },
    {
      "cell_type": "code",
      "source": [
        "sun_comments=[\n",
        "  'https://www.thesun.co.uk/news/17429296/britain-right-stand-up-putin/',\n",
        "  'https://www.thesun.co.uk/news/17986820/eu-supply-russia-weapons-ukraine/',\n",
        "  'https://www.thesun.co.uk/news/18023928/west-putin-allies-hitler-russia-ukraine/',\n",
        "  'https://www.thesun.co.uk/news/18034896/putin-nation-oil-gas-wealth/',\n",
        "  'https://www.thesun.co.uk/news/18060250/nato-biden-putin-concessions-war/',\n",
        "  'https://www.thesun.co.uk/news/18078164/britain-freedom-lecture-vladimir-putin/',\n",
        "  'https://www.thesun.co.uk/news/18094883/russian-sanctions-must-not-be-lifted/',\n",
        "  'https://www.thesun.co.uk/news/18141611/zelensky-no-pressure-west-putin-concession/',\n",
        "  'https://www.thesun.co.uk/news/18154779/britain-give-zelensky-firepower-crush-putin-troops/',\n",
        "  'https://www.thesun.co.uk/news/18165826/zelensky-brussels-britain-ukraine-war/',\n",
        "  'https://www.thesun.co.uk/news/18177975/home-office-shames-britain-betrays-ukrainians-refugees/',\n",
        "  'https://www.thesun.co.uk/news/18189739/eu-sanctions-putin-meaningless/',\n",
        "  'https://www.thesun.co.uk/news/18213223/putin-russia-war-sanctions-cripple-finances/',\n",
        "  'https://www.thesun.co.uk/news/18279191/putin-russia-lies-sinking-moskva/',\n",
        "  'https://www.thesun.co.uk/news/18299251/britain-proud-arming-ukraine/',\n",
        "  'https://www.thesun.co.uk/news/18676393/ukraine-zelensky-no-pressure-surrender/',\n",
        "  'https://www.thesun.co.uk/news/17634958/the-west-must-show-united-strength/',\n",
        "  'https://www.thesun.co.uk/news/17641615/vladimir-putin-midlife-crisis-ukraine/',\n",
        "  'https://www.thesun.co.uk/news/17652425/west-naive-putin-criminal-regime-russia/',\n",
        "  'https://www.thesun.co.uk/news/17688787/russia-vladimir-putin-sanctions-withdrawal-deadline/',\n",
        "  'https://www.thesun.co.uk/news/17708086/britain-west-united-putin/',\n",
        "  'https://www.thesun.co.uk/news/17739033/russia-sanctions-vladimir-putin-land-grab/',\n",
        "  'https://www.thesun.co.uk/news/17750960/boris-johnson-charge-wealth-putin-cronies/',\n",
        "  'https://www.thesun.co.uk/news/17763814/vladimir-putin-hitler-of-our-age/',\n",
        "  'https://www.thesun.co.uk/news/17775274/sun-says-west-too-slow/',\n",
        "  'https://www.thesun.co.uk/news/17789606/vladimir-putin-desperate-unhinged-isolated-figure/',\n",
        "  'https://www.thesun.co.uk/news/17813742/britains-money-no-longer-fund-russia/',\n",
        "  'https://www.thesun.co.uk/news/17839074/vladimir-putin-russia-ukraine-nuclear-armed-tyrant/',\n",
        "  'https://www.thesun.co.uk/news/17857478/putin-outburst-west-sanctions-boris/',\n",
        "  'https://www.thesun.co.uk/news/17864544/putins-invasion-ukraine-throwback-last-century/',\n",
        "  'https://www.thesun.co.uk/news/17901416/ukraine-weapons-russia-nazis/',\n",
        "  'https://www.thesun.co.uk/news/17930841/volodymyr-zelensky-knight-sun-says/',\n",
        "  'https://www.thesun.co.uk/news/17484112/sun-says-boris-biden-ukraine/'\n",
        "]"
      ],
      "metadata": {
        "id": "o-czydKfUQi-"
      },
      "execution_count": null,
      "outputs": []
    },
    {
      "cell_type": "code",
      "source": [
        "len(sun_comments)"
      ],
      "metadata": {
        "colab": {
          "base_uri": "https://localhost:8080/"
        },
        "id": "qFGkD843QHgX",
        "outputId": "e2ac7d19-1f55-4cf2-93a8-86198f570aef"
      },
      "execution_count": null,
      "outputs": [
        {
          "output_type": "execute_result",
          "data": {
            "text/plain": [
              "33"
            ]
          },
          "metadata": {},
          "execution_count": 101
        }
      ]
    },
    {
      "cell_type": "code",
      "source": [
        "#prepare the lists to use later\n",
        "sun_time=[]\n",
        "sun_topic=[]\n",
        "sun_article=[]\n",
        "sun_names=[]\n",
        "sun_source=[]\n",
        "\n",
        "for i in range(0, len(sun_comments)):\n",
        "#for i in range(0, 2):\n",
        "  sun_web=sun_comments[i]\n",
        "  request=req.Request(sun_web, headers={\"User-Agent\":\"Mozilla/5.0 (Windows NT 10.0; Win64; x64) AppleWebKit/537.36 (KHTML, like Gecko) Chrome/88.0.4324.190 Safari/537.36\"})\n",
        "\n",
        "  with req.urlopen(request) as response:\n",
        "    data=response.read().decode(\"utf-8\")\n",
        "  root=bs4.BeautifulSoup(data, \"html.parser\")\n",
        "\n",
        "  #time\n",
        "  sun_web_time=root.find(\"span\", class_=\"article__timestamp\")\n",
        "  sun_time.append(sun_web_time.string)\n",
        "\n",
        "  #topic\n",
        "  sun_web_topic=root.find(\"h1\", class_=\"article__headline\")\n",
        "  sun_topic.append(sun_web_topic.string)\n",
        "\n",
        "  #article\n",
        "  sun_article_tmp=[]\n",
        "  #sun_article_tmp.append([i.text for i in root.select('div.article__content')])\n",
        "  sun_article_tmp.append([i.text for i in root.find(\"div\", class_=\"article__content\").select('p')])\n",
        "  sun_article_tmp=str(sun_article_tmp).strip(\"[\")\n",
        "  sun_article_tmp=sun_article_tmp.strip(\"]\")\n",
        "  sun_article_tmp=\" \".join(sun_article_tmp.split(\"', '\"))\n",
        "  sun_article_tmp=sun_article_tmp.strip(\"'\")\n",
        "  sun_article.append(sun_article_tmp)\n",
        "\n",
        "  #names\n",
        "  nlp=spacy.load(\"en_core_web_sm\")\n",
        "  doc=nlp(str(sun_article[i]))\n",
        "  sun_names_tmp=[]\n",
        "  for x in doc.ents:\n",
        "    if x.label_==\"PERSON\":\n",
        "      sun_names_tmp.append(x.text)\n",
        "    else:\n",
        "      continue\n",
        "  sun_names_tmp=str(set(sun_names_tmp)).strip(\"{\")\n",
        "  sun_names_tmp=sun_names_tmp.strip(\"}\")\n",
        "  sun_names_tmp=sun_names_tmp.strip(\"'\")\n",
        "  sun_names_tmp=\"\".join(sun_names_tmp.split(\"'\"))\n",
        "  sun_names.append(sun_names_tmp)\n",
        "\n",
        "  #source\n",
        "  sun_source.append(\"sun_news\")"
      ],
      "metadata": {
        "id": "CnzcSGuuJ1D0"
      },
      "execution_count": null,
      "outputs": []
    },
    {
      "cell_type": "code",
      "source": [
        "print(sun_time)\n",
        "print(sun_topic)\n",
        "print(sun_article[0])\n",
        "print(sun_names[1])\n",
        "print(sun_source)"
      ],
      "metadata": {
        "colab": {
          "base_uri": "https://localhost:8080/"
        },
        "id": "ZSXesgsTLYoi",
        "outputId": "143179dc-5b8b-4982-bad2-ed1327ef6016"
      },
      "execution_count": null,
      "outputs": [
        {
          "output_type": "stream",
          "name": "stdout",
          "text": [
            "['24 Jan 2022', '17 Mar 2022']\n",
            "['Britain is right to stand up to Vladmir Putin and defend Ukraine’s grateful citizens', 'EU countries supplying Russia weapons isn’t just jaw-droppingly complacent – it’s insane']\n",
            "REMEMBER how we were told the EU had kept the peace in Europe for 60 years? It was always a lie — and is looking more offensive by the day. Here’s another one the Brexit-haters told: That leaving the EU would render Britain impotent and globally irrelevant. They were even at it yesterday, despite the facts staring them in the face. Who knows how the Russia-Ukraine standoff will pan out? What we DO know, what sovereign Ukraine’s grateful citizens know, is that Brexit Britain flew in weapons to help defend them against invasion. We have been far more active over their plight than anyone — militarily, legally and diplomatically. And we are right, with the US, to stand up to Putin. Germany shamefully bottled out to protect its Russian gas supplies. The EU is a rabbit frozen in the headlights. We can only worry for those europhiles who, seeing all this, choose not to stay discreetly silent but to argue that black is white and up is down. To still doggedly claim that Britain is increasingly insignificant, based on idiotic columns they comfort-read in Brexit-loathing papers, is a form of madness. NO publisher could get away with furthering the hate, extremism, dangerous ignorance and incitements to violence that social media spews out. For all of the excuses offered up by Twitter and the rest, the tech giants publish harmful filth every day. So we welcome them facing UK legal action, including now the targeting of executives who fail to protect the public. The tech firms have brought significant benefits to the world. But they have caused grotesque damage too. It is time they spent their vast riches eradicating it. The Government’s so-called “Nick Clegg law”, after the ex-Deputy PM who now spins for Facebook, is \\xadwelcome. But this cannot be mere sabre-rattling. Downing Street MUST see this through. WE doubt there is a better illustration of Home Office impotence over illegal migrants than its failure over suicide bomber Emad al-Swealmeen. He is now confirmed to have told a pack of lies over his background before his asylum claim was thrown out in 2015. He should have been flown under guard that very day to his birth country Iraq, or Jordan, where his passport was issued. Instead he stayed for years, appealing repeatedly to stall his exit. Then he blew himself up at a hospital. For all that it moans about left-wing lawyers representing asylum cheats, this is still a disaster for the Home Office. Its inability to deport those with no right to be here — along with the armada of boats bringing more in every day — render our border controls meaningless.\n",
            "Texts, Geoffrey Cox, Donate, Putin, Zelensky\n",
            "['sun_news', 'sun_news']\n"
          ]
        }
      ]
    },
    {
      "cell_type": "markdown",
      "source": [
        "#Turn to dataframe, then .csv"
      ],
      "metadata": {
        "id": "D_bivdkCXehn"
      }
    },
    {
      "cell_type": "code",
      "source": [
        "EDITORIAL=[]\n",
        "\n",
        "#Daily Mail\n",
        "for i in range(0, len(daily_mail_comments)):\n",
        "#for i in range(0, 2):\n",
        "  EDITORIAL.append([daily_time[i], daily_topic[i], daily_article[i], daily_names[i], daily_source[i]])\n",
        "\n",
        "\n",
        "#Reuters\n",
        "for i in range(0, len(reuters_comments)):\n",
        "#for i in range(0, 2):\n",
        "  EDITORIAL.append([reuters_time[i], reuters_topic[i], reuters_article[i], reuters_names[i], reuters_source[i]])\n",
        "\n",
        "\n",
        "#The Sun\n",
        "for i in range(0, len(sun_comments)):\n",
        "#for i in range(0, 2):\n",
        "  EDITORIAL.append([sun_time[i], sun_topic[i], sun_article[i], sun_names[i], sun_source[i]])\n",
        "\n",
        "\n",
        "import pandas as pd\n",
        "Editorial_Dataframe=pd.DataFrame(EDITORIAL, columns=[\"Time\", \"Topics\", \"Articles\", \"Names\", \"Source\"])"
      ],
      "metadata": {
        "id": "-TX3yEgxYAr8"
      },
      "execution_count": null,
      "outputs": []
    },
    {
      "cell_type": "code",
      "source": [
        "#connectGoogle cloud to the colab file\n",
        "!pip install google.colab\n",
        "from google.colab import drive\n",
        "drive.mount('/content/drive')\n",
        "#there is going to appear a hint to authorize the colab to access your Google cloud"
      ],
      "metadata": {
        "id": "K7_Yta3FSK9K"
      },
      "execution_count": null,
      "outputs": []
    },
    {
      "cell_type": "code",
      "source": [
        "Editorial_Dataframe.to_csv('/content/drive/My Drive/Editorial_Dataframe.csv', encoding=\"utf-8-sig\", index=True)\n",
        "#finish"
      ],
      "metadata": {
        "id": "cpl01yABSOKs"
      },
      "execution_count": null,
      "outputs": []
    }
  ]
}